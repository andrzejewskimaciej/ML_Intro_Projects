{
 "cells": [
  {
   "cell_type": "code",
   "execution_count": 87,
   "id": "8cbdc763-ee91-4a3c-84ad-d2a5fd5650d3",
   "metadata": {},
   "outputs": [],
   "source": [
    "import numpy as np\n",
    "import pandas as pd\n",
    "import matplotlib.pyplot as plt\n",
    "import seaborn as sns\n",
    "import warnings\n",
    "from datetime import datetime\n",
    "warnings.filterwarnings('ignore')"
   ]
  },
  {
   "cell_type": "code",
   "execution_count": 88,
   "id": "b8dbde88-95d4-46b0-9264-2e3f608b8ed9",
   "metadata": {},
   "outputs": [],
   "source": [
    "df = pd.read_csv('data/UnCleanedKaggle/financial_loan.csv')"
   ]
  },
  {
   "cell_type": "code",
   "execution_count": 89,
   "id": "07ddac73-0aa2-4424-8917-195c3a4fafc8",
   "metadata": {},
   "outputs": [
    {
     "data": {
      "text/plain": [
       "id                          0\n",
       "address_state               0\n",
       "application_type            0\n",
       "emp_length                  0\n",
       "emp_title                1438\n",
       "grade                       0\n",
       "home_ownership              0\n",
       "issue_date                  0\n",
       "last_credit_pull_date       0\n",
       "last_payment_date           0\n",
       "loan_status                 0\n",
       "next_payment_date           0\n",
       "member_id                   0\n",
       "purpose                     0\n",
       "sub_grade                   0\n",
       "term                        0\n",
       "verification_status         0\n",
       "annual_income               0\n",
       "dti                         0\n",
       "installment                 0\n",
       "int_rate                    0\n",
       "loan_amount                 0\n",
       "total_acc                   0\n",
       "total_payment               0\n",
       "dtype: int64"
      ]
     },
     "execution_count": 89,
     "metadata": {},
     "output_type": "execute_result"
    }
   ],
   "source": [
    "df.isna().sum()"
   ]
  },
  {
   "cell_type": "code",
   "execution_count": 90,
   "id": "5d77bead-d23e-4afe-9c4c-4df95a29f8fc",
   "metadata": {},
   "outputs": [],
   "source": [
    "df.emp_title.fillna('No title',inplace=True)\n"
   ]
  },
  {
   "cell_type": "code",
   "execution_count": 91,
   "id": "9338f892-c87c-4990-a21e-abdf206e9643",
   "metadata": {},
   "outputs": [
    {
     "data": {
      "text/plain": [
       "array(['< 1 year', '9 years', '4 years', '10+ years', '3 years',\n",
       "       '5 years', '1 year', '6 years', '2 years', '7 years', '8 years'],\n",
       "      dtype=object)"
      ]
     },
     "execution_count": 91,
     "metadata": {},
     "output_type": "execute_result"
    }
   ],
   "source": [
    "df['emp_length'].unique()"
   ]
  },
  {
   "cell_type": "code",
   "execution_count": 92,
   "id": "62c2eb00-0316-4f47-af5e-6c4425ba25b5",
   "metadata": {},
   "outputs": [],
   "source": [
    "def parse(text: str) -> int:\n",
    "        text = text.strip().lower()\n",
    "        if text.startswith(\"<\"):\n",
    "            return 0                       \n",
    "        elif \"+\" in text:\n",
    "            return 10\n",
    "        return int(text[0])"
   ]
  },
  {
   "cell_type": "code",
   "execution_count": 93,
   "id": "6821b322-64ff-4965-bc5a-f55fe6dd8dc7",
   "metadata": {},
   "outputs": [
    {
     "data": {
      "text/plain": [
       "array([ 0,  9,  4, 10,  3,  5,  1,  6,  2,  7,  8])"
      ]
     },
     "execution_count": 93,
     "metadata": {},
     "output_type": "execute_result"
    }
   ],
   "source": [
    "df['emp_years']=df['emp_length'].apply(lambda x: parse(x))\n",
    "df['emp_years'].unique() "
   ]
  },
  {
   "cell_type": "code",
   "execution_count": 94,
   "id": "f1b06af5-58cd-4550-8fc5-e4ecd66948fd",
   "metadata": {},
   "outputs": [
    {
     "data": {
      "text/plain": [
       "array(['C', 'E', 'B', 'A', 'D', 'F', 'G'], dtype=object)"
      ]
     },
     "execution_count": 94,
     "metadata": {},
     "output_type": "execute_result"
    }
   ],
   "source": [
    "df['grade'].unique() "
   ]
  },
  {
   "cell_type": "code",
   "execution_count": 95,
   "id": "356c0b17-58ab-4cd4-941a-2bbe10309cce",
   "metadata": {},
   "outputs": [],
   "source": [
    "def grades(grade: str)->int: \n",
    "    dictionary_grade=({\n",
    "        'A':7 , \n",
    "        'B':6, \n",
    "        'C':5, \n",
    "        'D':4,\n",
    "        'E':3, \n",
    "        'F':2, \n",
    "        'G':1\n",
    "    })\n",
    "    if grade not in dictionary_grade.keys(): \n",
    "        print(\"something wrong\") \n",
    "    else: \n",
    "        return dictionary_grade[grade]"
   ]
  },
  {
   "cell_type": "code",
   "execution_count": 96,
   "id": "b4e06d3d-1c3d-45e3-96de-95d85409d3fe",
   "metadata": {},
   "outputs": [
    {
     "data": {
      "text/plain": [
       "array([5, 3, 6, 7, 4, 2, 1])"
      ]
     },
     "execution_count": 96,
     "metadata": {},
     "output_type": "execute_result"
    }
   ],
   "source": [
    "df['grade_numeric']=df['grade'].apply(lambda x: grades(x))\n",
    "df['grade_numeric'].unique() "
   ]
  },
  {
   "cell_type": "code",
   "execution_count": 97,
   "id": "4204185f-b3f1-47b4-9ac5-a72f2cac3cc3",
   "metadata": {},
   "outputs": [
    {
     "data": {
      "text/plain": [
       "array(['C4', 'E1', 'C5', 'B2', 'A1', 'C3', 'C2', 'A4', 'A5', 'B5', 'B4',\n",
       "       'B3', 'B1', 'D1', 'A2', 'A3', 'D4', 'D2', 'C1', 'D3', 'E3', 'F1',\n",
       "       'E2', 'E5', 'D5', 'E4', 'F2', 'G3', 'F3', 'G1', 'F4', 'G4', 'G2',\n",
       "       'F5', 'G5'], dtype=object)"
      ]
     },
     "execution_count": 97,
     "metadata": {},
     "output_type": "execute_result"
    }
   ],
   "source": [
    "df['sub_grade'].unique() "
   ]
  },
  {
   "cell_type": "code",
   "execution_count": 98,
   "id": "2454cc72-8eeb-4ca6-9714-ea4b92a3a130",
   "metadata": {},
   "outputs": [],
   "source": [
    "def sub_grades(sub_grade: str)->int: \n",
    "    sub_str=sub_grade.strip()\n",
    "    grade,sub=sub_str[0],int(sub_str[1])\n",
    "    dictionary_grade=({\n",
    "        'A':7 , \n",
    "        'B':6, \n",
    "        'C':5, \n",
    "        'D':4,\n",
    "        'E':3, \n",
    "        'F':2, \n",
    "        'G':1\n",
    "    })\n",
    "    if grade not in dictionary_grade.keys(): \n",
    "        print(\"something wrong\") \n",
    "    else: \n",
    "        return int(dictionary_grade[grade]) + sub/6"
   ]
  },
  {
   "cell_type": "code",
   "execution_count": 99,
   "id": "39c9dd96-242f-49c8-afdc-ae72e564379e",
   "metadata": {},
   "outputs": [
    {
     "data": {
      "text/plain": [
       "array([5.66666667, 3.16666667, 5.83333333, 6.33333333, 7.16666667,\n",
       "       5.5       , 5.33333333, 7.66666667, 7.83333333, 6.83333333,\n",
       "       6.66666667, 6.5       , 6.16666667, 4.16666667, 7.33333333,\n",
       "       7.5       , 4.66666667, 4.33333333, 5.16666667, 4.5       ,\n",
       "       3.5       , 2.16666667, 3.33333333, 3.83333333, 4.83333333,\n",
       "       3.66666667, 2.33333333, 1.5       , 2.5       , 1.16666667,\n",
       "       2.66666667, 1.66666667, 1.33333333, 2.83333333, 1.83333333])"
      ]
     },
     "execution_count": 99,
     "metadata": {},
     "output_type": "execute_result"
    }
   ],
   "source": [
    "df['sub_grade_numeric']=df['sub_grade'].apply(lambda x: sub_grades(x))\n",
    "df['sub_grade_numeric'].unique() "
   ]
  },
  {
   "cell_type": "code",
   "execution_count": 100,
   "id": "1648d774-7838-448e-9d9f-4facf515aeb8",
   "metadata": {},
   "outputs": [],
   "source": [
    "def timeScraper(time_str: str) -> tuple[int, int, int,int]:\n",
    "    dt = datetime.strptime(time_str, '%d-%m-%Y')  \n",
    "    return dt.year, dt.month, dt.day ,dt.weekday\n"
   ]
  },
  {
   "cell_type": "code",
   "execution_count": 101,
   "id": "45d21cf3-dc7c-4a06-b65a-b587a41173cf",
   "metadata": {
    "scrolled": true
   },
   "outputs": [],
   "source": [
    "df[['issue_year', 'issue_month', 'issue_day', 'issue_weekday']] = df['issue_date'].apply(\n",
    "    timeScraper).apply(pd.Series)\n",
    "\n",
    "df[['last_credit_pull_year', 'last_credit_pull_month', 'last_credit_pull_day', 'last_credit_pull_weekday']] = df['last_credit_pull_date'].apply(\n",
    "    timeScraper).apply(pd.Series)\n",
    "\n",
    "df[['last_payment_year', 'last_payment_month', 'last_payment_day', 'last_payment_weekday']] = df['last_payment_date'].apply(\n",
    "    timeScraper).apply(pd.Series)\n",
    "df[['next_payment_year', 'next_payment_month', 'next_payment_day', 'next_payment_weekday']] = df['next_payment_date'].apply(\n",
    "    timeScraper).apply(pd.Series)"
   ]
  },
  {
   "cell_type": "code",
   "execution_count": 102,
   "id": "fbd4fb2c-8d8c-477c-8dad-00427164a38b",
   "metadata": {},
   "outputs": [
    {
     "data": {
      "text/plain": [
       "array([' 60 months', ' 36 months'], dtype=object)"
      ]
     },
     "execution_count": 102,
     "metadata": {},
     "output_type": "execute_result"
    }
   ],
   "source": [
    "df['term'].unique() "
   ]
  },
  {
   "cell_type": "code",
   "execution_count": 103,
   "id": "480a0614-9184-47bd-9e1b-1d0e9abd58a3",
   "metadata": {},
   "outputs": [
    {
     "data": {
      "text/plain": [
       "array([60, 36])"
      ]
     },
     "execution_count": 103,
     "metadata": {},
     "output_type": "execute_result"
    }
   ],
   "source": [
    "df['term_months']=df['term'].apply(lambda x : 60 if x==\" 60 months\" else 36) \n",
    "df['term_months'].unique()"
   ]
  },
  {
   "cell_type": "code",
   "execution_count": 105,
   "id": "ba2ad868-aefd-49f9-a508-fc4a1fe8b9ea",
   "metadata": {},
   "outputs": [],
   "source": [
    "df.drop(columns=['id','emp_length','grade','member_id','sub_grade','term'],axis=1,inplace=True)"
   ]
  },
  {
   "cell_type": "code",
   "execution_count": 106,
   "id": "2e010a6d-a7d5-4e8b-b3b0-aa923f136821",
   "metadata": {},
   "outputs": [],
   "source": [
    "df.to_csv(\"data/CleanedKaggle/financial_loan_cleaned.csv\",index=False) "
   ]
  }
 ],
 "metadata": {
  "kernelspec": {
   "display_name": "Python 3 (ipykernel)",
   "language": "python",
   "name": "python3"
  },
  "language_info": {
   "codemirror_mode": {
    "name": "ipython",
    "version": 3
   },
   "file_extension": ".py",
   "mimetype": "text/x-python",
   "name": "python",
   "nbconvert_exporter": "python",
   "pygments_lexer": "ipython3",
   "version": "3.10.11"
  }
 },
 "nbformat": 4,
 "nbformat_minor": 5
}

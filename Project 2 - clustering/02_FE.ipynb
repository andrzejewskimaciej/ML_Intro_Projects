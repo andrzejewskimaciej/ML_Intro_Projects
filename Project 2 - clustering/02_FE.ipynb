{
 "cells": [
  {
   "cell_type": "code",
   "execution_count": 60,
   "id": "5537d7db-21cd-4c2d-8650-0799d2fe7475",
   "metadata": {},
   "outputs": [],
   "source": [
    "import pandas as pd \n",
    "import numpy as np \n",
    "from pandas.tseries.offsets import DateOffset\n",
    "import seaborn as sns \n",
    "import matplotlib.pyplot as plt \n",
    "import re "
   ]
  },
  {
   "cell_type": "code",
   "execution_count": 61,
   "id": "f220c43e-bcf0-457c-b76d-c2de9850afed",
   "metadata": {},
   "outputs": [],
   "source": [
    "df=pd.read_csv(\"data/CleanedKaggle/financial_loan_cleaned.csv\") "
   ]
  },
  {
   "cell_type": "code",
   "execution_count": 62,
   "id": "f1e5e6f8-2954-4e55-9ea2-326209cc265f",
   "metadata": {},
   "outputs": [
    {
     "data": {
      "text/html": [
       "<div>\n",
       "<style scoped>\n",
       "    .dataframe tbody tr th:only-of-type {\n",
       "        vertical-align: middle;\n",
       "    }\n",
       "\n",
       "    .dataframe tbody tr th {\n",
       "        vertical-align: top;\n",
       "    }\n",
       "\n",
       "    .dataframe thead th {\n",
       "        text-align: right;\n",
       "    }\n",
       "</style>\n",
       "<table border=\"1\" class=\"dataframe\">\n",
       "  <thead>\n",
       "    <tr style=\"text-align: right;\">\n",
       "      <th></th>\n",
       "      <th>address_state</th>\n",
       "      <th>emp_title</th>\n",
       "      <th>home_ownership</th>\n",
       "      <th>issue_date</th>\n",
       "      <th>last_credit_pull_date</th>\n",
       "      <th>last_payment_date</th>\n",
       "      <th>loan_status</th>\n",
       "      <th>next_payment_date</th>\n",
       "      <th>purpose</th>\n",
       "      <th>verification_status</th>\n",
       "      <th>...</th>\n",
       "      <th>last_credit_pull_weekday</th>\n",
       "      <th>last_payment_year</th>\n",
       "      <th>last_payment_month</th>\n",
       "      <th>last_payment_day</th>\n",
       "      <th>last_payment_weekday</th>\n",
       "      <th>next_payment_year</th>\n",
       "      <th>next_payment_month</th>\n",
       "      <th>next_payment_day</th>\n",
       "      <th>next_payment_weekday</th>\n",
       "      <th>term_months</th>\n",
       "    </tr>\n",
       "  </thead>\n",
       "  <tbody>\n",
       "    <tr>\n",
       "      <th>0</th>\n",
       "      <td>GA</td>\n",
       "      <td>Other</td>\n",
       "      <td>RENT</td>\n",
       "      <td>11-02-2021</td>\n",
       "      <td>13-09-2021</td>\n",
       "      <td>13-04-2021</td>\n",
       "      <td>Charged Off</td>\n",
       "      <td>13-05-2021</td>\n",
       "      <td>car</td>\n",
       "      <td>Source Verified</td>\n",
       "      <td>...</td>\n",
       "      <td>0</td>\n",
       "      <td>2021</td>\n",
       "      <td>4</td>\n",
       "      <td>13</td>\n",
       "      <td>1</td>\n",
       "      <td>2021</td>\n",
       "      <td>5</td>\n",
       "      <td>13</td>\n",
       "      <td>3</td>\n",
       "      <td>60</td>\n",
       "    </tr>\n",
       "    <tr>\n",
       "      <th>1</th>\n",
       "      <td>CA</td>\n",
       "      <td>Other</td>\n",
       "      <td>RENT</td>\n",
       "      <td>01-01-2021</td>\n",
       "      <td>14-12-2021</td>\n",
       "      <td>15-01-2021</td>\n",
       "      <td>Fully Paid</td>\n",
       "      <td>15-02-2021</td>\n",
       "      <td>car</td>\n",
       "      <td>Source Verified</td>\n",
       "      <td>...</td>\n",
       "      <td>1</td>\n",
       "      <td>2021</td>\n",
       "      <td>1</td>\n",
       "      <td>15</td>\n",
       "      <td>4</td>\n",
       "      <td>2021</td>\n",
       "      <td>2</td>\n",
       "      <td>15</td>\n",
       "      <td>0</td>\n",
       "      <td>36</td>\n",
       "    </tr>\n",
       "    <tr>\n",
       "      <th>2</th>\n",
       "      <td>CA</td>\n",
       "      <td>Other</td>\n",
       "      <td>RENT</td>\n",
       "      <td>05-01-2021</td>\n",
       "      <td>12-12-2021</td>\n",
       "      <td>09-01-2021</td>\n",
       "      <td>Charged Off</td>\n",
       "      <td>09-02-2021</td>\n",
       "      <td>car</td>\n",
       "      <td>Not Verified</td>\n",
       "      <td>...</td>\n",
       "      <td>6</td>\n",
       "      <td>2021</td>\n",
       "      <td>1</td>\n",
       "      <td>9</td>\n",
       "      <td>5</td>\n",
       "      <td>2021</td>\n",
       "      <td>2</td>\n",
       "      <td>9</td>\n",
       "      <td>1</td>\n",
       "      <td>36</td>\n",
       "    </tr>\n",
       "    <tr>\n",
       "      <th>3</th>\n",
       "      <td>TX</td>\n",
       "      <td>Other</td>\n",
       "      <td>MORTGAGE</td>\n",
       "      <td>25-02-2021</td>\n",
       "      <td>12-12-2021</td>\n",
       "      <td>12-03-2021</td>\n",
       "      <td>Fully Paid</td>\n",
       "      <td>12-04-2021</td>\n",
       "      <td>car</td>\n",
       "      <td>Source Verified</td>\n",
       "      <td>...</td>\n",
       "      <td>6</td>\n",
       "      <td>2021</td>\n",
       "      <td>3</td>\n",
       "      <td>12</td>\n",
       "      <td>4</td>\n",
       "      <td>2021</td>\n",
       "      <td>4</td>\n",
       "      <td>12</td>\n",
       "      <td>0</td>\n",
       "      <td>60</td>\n",
       "    </tr>\n",
       "    <tr>\n",
       "      <th>4</th>\n",
       "      <td>IL</td>\n",
       "      <td>Other</td>\n",
       "      <td>MORTGAGE</td>\n",
       "      <td>01-01-2021</td>\n",
       "      <td>14-12-2021</td>\n",
       "      <td>15-01-2021</td>\n",
       "      <td>Fully Paid</td>\n",
       "      <td>15-02-2021</td>\n",
       "      <td>car</td>\n",
       "      <td>Verified</td>\n",
       "      <td>...</td>\n",
       "      <td>1</td>\n",
       "      <td>2021</td>\n",
       "      <td>1</td>\n",
       "      <td>15</td>\n",
       "      <td>4</td>\n",
       "      <td>2021</td>\n",
       "      <td>2</td>\n",
       "      <td>15</td>\n",
       "      <td>0</td>\n",
       "      <td>36</td>\n",
       "    </tr>\n",
       "    <tr>\n",
       "      <th>...</th>\n",
       "      <td>...</td>\n",
       "      <td>...</td>\n",
       "      <td>...</td>\n",
       "      <td>...</td>\n",
       "      <td>...</td>\n",
       "      <td>...</td>\n",
       "      <td>...</td>\n",
       "      <td>...</td>\n",
       "      <td>...</td>\n",
       "      <td>...</td>\n",
       "      <td>...</td>\n",
       "      <td>...</td>\n",
       "      <td>...</td>\n",
       "      <td>...</td>\n",
       "      <td>...</td>\n",
       "      <td>...</td>\n",
       "      <td>...</td>\n",
       "      <td>...</td>\n",
       "      <td>...</td>\n",
       "      <td>...</td>\n",
       "      <td>...</td>\n",
       "    </tr>\n",
       "    <tr>\n",
       "      <th>38571</th>\n",
       "      <td>NJ</td>\n",
       "      <td>Other</td>\n",
       "      <td>MORTGAGE</td>\n",
       "      <td>11-07-2021</td>\n",
       "      <td>16-05-2021</td>\n",
       "      <td>16-05-2021</td>\n",
       "      <td>Current</td>\n",
       "      <td>16-06-2021</td>\n",
       "      <td>wedding</td>\n",
       "      <td>Verified</td>\n",
       "      <td>...</td>\n",
       "      <td>6</td>\n",
       "      <td>2021</td>\n",
       "      <td>5</td>\n",
       "      <td>16</td>\n",
       "      <td>6</td>\n",
       "      <td>2021</td>\n",
       "      <td>6</td>\n",
       "      <td>16</td>\n",
       "      <td>2</td>\n",
       "      <td>60</td>\n",
       "    </tr>\n",
       "    <tr>\n",
       "      <th>38572</th>\n",
       "      <td>NY</td>\n",
       "      <td>Other</td>\n",
       "      <td>RENT</td>\n",
       "      <td>11-10-2021</td>\n",
       "      <td>16-04-2021</td>\n",
       "      <td>16-05-2021</td>\n",
       "      <td>Current</td>\n",
       "      <td>16-06-2021</td>\n",
       "      <td>wedding</td>\n",
       "      <td>Verified</td>\n",
       "      <td>...</td>\n",
       "      <td>4</td>\n",
       "      <td>2021</td>\n",
       "      <td>5</td>\n",
       "      <td>16</td>\n",
       "      <td>6</td>\n",
       "      <td>2021</td>\n",
       "      <td>6</td>\n",
       "      <td>16</td>\n",
       "      <td>2</td>\n",
       "      <td>60</td>\n",
       "    </tr>\n",
       "    <tr>\n",
       "      <th>38573</th>\n",
       "      <td>CA</td>\n",
       "      <td>Other</td>\n",
       "      <td>RENT</td>\n",
       "      <td>11-09-2021</td>\n",
       "      <td>16-05-2021</td>\n",
       "      <td>16-05-2021</td>\n",
       "      <td>Current</td>\n",
       "      <td>16-06-2021</td>\n",
       "      <td>wedding</td>\n",
       "      <td>Verified</td>\n",
       "      <td>...</td>\n",
       "      <td>6</td>\n",
       "      <td>2021</td>\n",
       "      <td>5</td>\n",
       "      <td>16</td>\n",
       "      <td>6</td>\n",
       "      <td>2021</td>\n",
       "      <td>6</td>\n",
       "      <td>16</td>\n",
       "      <td>2</td>\n",
       "      <td>60</td>\n",
       "    </tr>\n",
       "    <tr>\n",
       "      <th>38574</th>\n",
       "      <td>NY</td>\n",
       "      <td>Other</td>\n",
       "      <td>RENT</td>\n",
       "      <td>11-10-2021</td>\n",
       "      <td>16-05-2021</td>\n",
       "      <td>16-05-2021</td>\n",
       "      <td>Current</td>\n",
       "      <td>16-06-2021</td>\n",
       "      <td>wedding</td>\n",
       "      <td>Verified</td>\n",
       "      <td>...</td>\n",
       "      <td>6</td>\n",
       "      <td>2021</td>\n",
       "      <td>5</td>\n",
       "      <td>16</td>\n",
       "      <td>6</td>\n",
       "      <td>2021</td>\n",
       "      <td>6</td>\n",
       "      <td>16</td>\n",
       "      <td>2</td>\n",
       "      <td>60</td>\n",
       "    </tr>\n",
       "    <tr>\n",
       "      <th>38575</th>\n",
       "      <td>NY</td>\n",
       "      <td>Other</td>\n",
       "      <td>RENT</td>\n",
       "      <td>11-07-2021</td>\n",
       "      <td>16-05-2021</td>\n",
       "      <td>16-05-2021</td>\n",
       "      <td>Current</td>\n",
       "      <td>16-06-2021</td>\n",
       "      <td>wedding</td>\n",
       "      <td>Verified</td>\n",
       "      <td>...</td>\n",
       "      <td>6</td>\n",
       "      <td>2021</td>\n",
       "      <td>5</td>\n",
       "      <td>16</td>\n",
       "      <td>6</td>\n",
       "      <td>2021</td>\n",
       "      <td>6</td>\n",
       "      <td>16</td>\n",
       "      <td>2</td>\n",
       "      <td>60</td>\n",
       "    </tr>\n",
       "  </tbody>\n",
       "</table>\n",
       "<p>38576 rows × 37 columns</p>\n",
       "</div>"
      ],
      "text/plain": [
       "      address_state emp_title home_ownership  issue_date  \\\n",
       "0                GA     Other           RENT  11-02-2021   \n",
       "1                CA     Other           RENT  01-01-2021   \n",
       "2                CA     Other           RENT  05-01-2021   \n",
       "3                TX     Other       MORTGAGE  25-02-2021   \n",
       "4                IL     Other       MORTGAGE  01-01-2021   \n",
       "...             ...       ...            ...         ...   \n",
       "38571            NJ     Other       MORTGAGE  11-07-2021   \n",
       "38572            NY     Other           RENT  11-10-2021   \n",
       "38573            CA     Other           RENT  11-09-2021   \n",
       "38574            NY     Other           RENT  11-10-2021   \n",
       "38575            NY     Other           RENT  11-07-2021   \n",
       "\n",
       "      last_credit_pull_date last_payment_date  loan_status next_payment_date  \\\n",
       "0                13-09-2021        13-04-2021  Charged Off        13-05-2021   \n",
       "1                14-12-2021        15-01-2021   Fully Paid        15-02-2021   \n",
       "2                12-12-2021        09-01-2021  Charged Off        09-02-2021   \n",
       "3                12-12-2021        12-03-2021   Fully Paid        12-04-2021   \n",
       "4                14-12-2021        15-01-2021   Fully Paid        15-02-2021   \n",
       "...                     ...               ...          ...               ...   \n",
       "38571            16-05-2021        16-05-2021      Current        16-06-2021   \n",
       "38572            16-04-2021        16-05-2021      Current        16-06-2021   \n",
       "38573            16-05-2021        16-05-2021      Current        16-06-2021   \n",
       "38574            16-05-2021        16-05-2021      Current        16-06-2021   \n",
       "38575            16-05-2021        16-05-2021      Current        16-06-2021   \n",
       "\n",
       "       purpose verification_status  ...  last_credit_pull_weekday  \\\n",
       "0          car     Source Verified  ...                         0   \n",
       "1          car     Source Verified  ...                         1   \n",
       "2          car        Not Verified  ...                         6   \n",
       "3          car     Source Verified  ...                         6   \n",
       "4          car            Verified  ...                         1   \n",
       "...        ...                 ...  ...                       ...   \n",
       "38571  wedding            Verified  ...                         6   \n",
       "38572  wedding            Verified  ...                         4   \n",
       "38573  wedding            Verified  ...                         6   \n",
       "38574  wedding            Verified  ...                         6   \n",
       "38575  wedding            Verified  ...                         6   \n",
       "\n",
       "       last_payment_year  last_payment_month  last_payment_day  \\\n",
       "0                   2021                   4                13   \n",
       "1                   2021                   1                15   \n",
       "2                   2021                   1                 9   \n",
       "3                   2021                   3                12   \n",
       "4                   2021                   1                15   \n",
       "...                  ...                 ...               ...   \n",
       "38571               2021                   5                16   \n",
       "38572               2021                   5                16   \n",
       "38573               2021                   5                16   \n",
       "38574               2021                   5                16   \n",
       "38575               2021                   5                16   \n",
       "\n",
       "       last_payment_weekday  next_payment_year  next_payment_month  \\\n",
       "0                         1               2021                   5   \n",
       "1                         4               2021                   2   \n",
       "2                         5               2021                   2   \n",
       "3                         4               2021                   4   \n",
       "4                         4               2021                   2   \n",
       "...                     ...                ...                 ...   \n",
       "38571                     6               2021                   6   \n",
       "38572                     6               2021                   6   \n",
       "38573                     6               2021                   6   \n",
       "38574                     6               2021                   6   \n",
       "38575                     6               2021                   6   \n",
       "\n",
       "       next_payment_day  next_payment_weekday  term_months  \n",
       "0                    13                     3           60  \n",
       "1                    15                     0           36  \n",
       "2                     9                     1           36  \n",
       "3                    12                     0           60  \n",
       "4                    15                     0           36  \n",
       "...                 ...                   ...          ...  \n",
       "38571                16                     2           60  \n",
       "38572                16                     2           60  \n",
       "38573                16                     2           60  \n",
       "38574                16                     2           60  \n",
       "38575                16                     2           60  \n",
       "\n",
       "[38576 rows x 37 columns]"
      ]
     },
     "execution_count": 62,
     "metadata": {},
     "output_type": "execute_result"
    }
   ],
   "source": [
    "df "
   ]
  },
  {
   "cell_type": "markdown",
   "id": "7836b3ab-f404-4b3c-be30-4608c979c6a5",
   "metadata": {},
   "source": [
    "## States "
   ]
  },
  {
   "cell_type": "code",
   "execution_count": 63,
   "id": "c9b09961-7a0c-4a47-baee-9c6dfb3b34c7",
   "metadata": {},
   "outputs": [
    {
     "data": {
      "text/plain": [
       "(50,)"
      ]
     },
     "execution_count": 63,
     "metadata": {},
     "output_type": "execute_result"
    }
   ],
   "source": [
    "df['address_state'].unique().shape"
   ]
  },
  {
   "cell_type": "code",
   "execution_count": 64,
   "id": "7fe1f8a5-cb63-4073-9917-a78b2215c5cf",
   "metadata": {},
   "outputs": [],
   "source": [
    "northeast = [\"CT\",\"ME\",\"MA\",\"NH\",\"NJ\",\"NY\",\"PA\",\"RI\",\"VT\"]\n",
    "midwest   = [\"IL\",\"IN\",\"IA\",\"KS\",\"MI\",\"MN\",\"MO\",\"NE\",\"ND\",\"OH\",\"SD\",\"WI\"]\n",
    "south     = [\"AL\",\"AR\",\"DE\",\"FL\",\"GA\",\"KY\",\"LA\",\"MD\",\"MS\",\"NC\",\"OK\",\"SC\",\"TN\",\"TX\",\"VA\",\"WV\"]\n",
    "west      = [\"AK\",\"AZ\",\"CA\",\"CO\",\"HI\",\"ID\",\"MT\",\"NV\",\"NM\",\"OR\",\"UT\",\"WA\",\"WY\"]\n",
    "north_south = {\n",
    "    \"North\": northeast + midwest + west,\n",
    "    \"South\": south\n",
    "}\n",
    "east_mid_west = {\n",
    "    \"East\": northeast + south,\n",
    "    \"Middle\": midwest,\n",
    "    \"West\": west\n",
    "}\n",
    "\n",
    "def north_south_apply(x,north_south): \n",
    "    if x in north_south['North']:\n",
    "        return \"North\" \n",
    "    else:\n",
    "        return \"South\" \n",
    "        \n",
    "def east_mid_west_apply(x,east_mid_west): \n",
    "    if x in east_mid_west['East']:\n",
    "        return \"East\" \n",
    "    elif x in east_mid_west['Middle']:\n",
    "        return 'Middle'\n",
    "    else:\n",
    "        return \"West\" \n"
   ]
  },
  {
   "cell_type": "code",
   "execution_count": 65,
   "id": "0ea0b2c9-d866-472f-93cf-3768774c6f58",
   "metadata": {},
   "outputs": [],
   "source": [
    "df['north_south_address']=df['address_state'].apply(lambda x: north_south_apply(x,north_south))\n",
    "df['east_mid_west_address']=df['address_state'].apply(lambda x: east_mid_west_apply(x,east_mid_west))\n",
    "df['clustered_address']=df['north_south_address']+df['east_mid_west_address']"
   ]
  },
  {
   "cell_type": "markdown",
   "id": "2ad4343b-278e-4eb7-95d9-0eafe2e36a0b",
   "metadata": {},
   "source": [
    "## Purpose "
   ]
  },
  {
   "cell_type": "code",
   "execution_count": 66,
   "id": "2256be64-bcfa-494e-942e-c72d88fc91fb",
   "metadata": {},
   "outputs": [
    {
     "data": {
      "text/plain": [
       "array(['car', 'credit card', 'Debt consolidation', 'educational',\n",
       "       'home improvement', 'house', 'major purchase', 'medical', 'moving',\n",
       "       'other', 'renewable_energy', 'small business', 'vacation',\n",
       "       'wedding'], dtype=object)"
      ]
     },
     "execution_count": 66,
     "metadata": {},
     "output_type": "execute_result"
    }
   ],
   "source": [
    "df['purpose'].unique() "
   ]
  },
  {
   "cell_type": "code",
   "execution_count": 67,
   "id": "dc81c139-45ba-41ca-a5a5-5e0a71f3a658",
   "metadata": {},
   "outputs": [],
   "source": [
    "def purpose_clutsering(x): \n",
    "    # to discuss\n",
    "    life=['car','home','home improvement','house','medical','moving','vacation', 'wedding','major purchase', \n",
    "         'renewable_energ']\n",
    "    finance=['credit card','Debt consolidation','small business']\n",
    "    if x in life: \n",
    "        return 'life' \n",
    "    elif x in finance: \n",
    "        return 'finance' \n",
    "    else: \n",
    "        return 'Other'"
   ]
  },
  {
   "cell_type": "code",
   "execution_count": 68,
   "id": "e5877db6-36d8-4e5e-8212-85eb5c7bc8a1",
   "metadata": {},
   "outputs": [],
   "source": [
    "df['purpose_clustered']=df['purpose'].apply(purpose_clutsering)"
   ]
  },
  {
   "cell_type": "markdown",
   "id": "85f8d84d-763d-4a1a-b53b-05363aa31876",
   "metadata": {},
   "source": [
    "## Date "
   ]
  },
  {
   "cell_type": "code",
   "execution_count": 69,
   "id": "ba67b49f-6de6-4666-b47c-4924257cb66a",
   "metadata": {},
   "outputs": [],
   "source": [
    "df['issue_date'] = pd.to_datetime(df['issue_date'], format='%d-%m-%Y')\n",
    "df['last_credit_pull_date'] = pd.to_datetime(df['last_credit_pull_date'], format='%d-%m-%Y')\n",
    "df['daysdiff_issue_pull'] = (df['issue_date'] - df['last_credit_pull_date']).dt.days\n",
    "df['pull_after_issue']=np.where(df['daysdiff_issue_pull']>0,1,0) "
   ]
  },
  {
   "cell_type": "code",
   "execution_count": 70,
   "id": "509c438f-a3ff-47f5-8b80-854b6203ea30",
   "metadata": {},
   "outputs": [],
   "source": [
    "df['next_payment_date'] = pd.to_datetime(df['next_payment_date'], format='%d-%m-%Y')\n",
    "df['last_payment_date'] = pd.to_datetime(df['last_payment_date'], format='%d-%m-%Y')\n",
    "df['last_next_diff']=(df['next_payment_date']-df['last_payment_date']).dt.days \n"
   ]
  },
  {
   "cell_type": "code",
   "execution_count": 71,
   "id": "66045c80-066c-4be9-8a8e-e24c8a2893e3",
   "metadata": {},
   "outputs": [
    {
     "data": {
      "text/plain": [
       "array(['Charged Off', 'Fully Paid', 'Current'], dtype=object)"
      ]
     },
     "execution_count": 71,
     "metadata": {},
     "output_type": "execute_result"
    }
   ],
   "source": [
    "df['loan_status'].unique() "
   ]
  },
  {
   "cell_type": "code",
   "execution_count": 72,
   "id": "6ebea10c-07e1-4f67-9aa9-b392e36ed98e",
   "metadata": {},
   "outputs": [],
   "source": [
    "def date_fixer(x,y): \n",
    "    if x=='Fully Paid':\n",
    "        return 0 \n",
    "    else: \n",
    "        return y"
   ]
  },
  {
   "cell_type": "code",
   "execution_count": 73,
   "id": "ae51f9e4-b00c-4f40-916c-7a83144716a2",
   "metadata": {},
   "outputs": [],
   "source": [
    "df['last_next_diff'] = df.apply(\n",
    "    lambda row: date_fixer(row['loan_status'],\n",
    "                                     row['last_next_diff']),\n",
    "    axis=1\n",
    ")"
   ]
  },
  {
   "cell_type": "code",
   "execution_count": 74,
   "id": "d7e13666-d189-4ded-b323-40102272473a",
   "metadata": {},
   "outputs": [
    {
     "data": {
      "text/plain": [
       "array([30,  0, 31, 28])"
      ]
     },
     "execution_count": 74,
     "metadata": {},
     "output_type": "execute_result"
    }
   ],
   "source": [
    "# Hmmm \n",
    "df['last_next_diff'].unique() "
   ]
  },
  {
   "cell_type": "code",
   "execution_count": 75,
   "id": "f34a2bda-6d26-4d05-9819-44c67917c5ed",
   "metadata": {},
   "outputs": [],
   "source": [
    "df['end_date'] = df.apply(\n",
    "    lambda row: row['issue_date'] + DateOffset(months=row['term_months']),\n",
    "    axis=1\n",
    ")\n",
    "df['time_to_last_payment']=(df['end_date']-df['next_payment_date']).dt.days \n",
    "\n",
    "df['time_to_last_payment'] = df.apply(\n",
    "    lambda row: date_fixer(row['loan_status'],\n",
    "                                     row['time_to_last_payment']),\n",
    "    axis=1\n",
    ")"
   ]
  },
  {
   "cell_type": "markdown",
   "id": "b81c8d14-f3f1-46c2-a6ff-aa7da8ab4ae2",
   "metadata": {},
   "source": [
    "## Numeric "
   ]
  },
  {
   "cell_type": "code",
   "execution_count": 76,
   "id": "246688a0-10b1-43a7-b8c2-54d7298045f4",
   "metadata": {
    "scrolled": true
   },
   "outputs": [
    {
     "data": {
      "text/plain": [
       "<Axes: xlabel='loan_amount', ylabel='Density'>"
      ]
     },
     "execution_count": 76,
     "metadata": {},
     "output_type": "execute_result"
    },
    {
     "data": {
      "image/png": "[encoded data removed]",
      "text/plain": [
       "<Figure size 640x480 with 1 Axes>"
      ]
     },
     "metadata": {},
     "output_type": "display_data"
    }
   ],
   "source": [
    "sns.kdeplot(data=df,x='loan_amount') "
   ]
  },
  {
   "cell_type": "code",
   "execution_count": 77,
   "id": "72299d22-afe0-435b-884c-d688c5f12a5a",
   "metadata": {},
   "outputs": [
    {
     "data": {
      "text/plain": [
       "<Axes: xlabel='log_loan_amount', ylabel='Density'>"
      ]
     },
     "execution_count": 77,
     "metadata": {},
     "output_type": "execute_result"
    },
    {
     "data": {
      "image/png": "[encoded data removed]",
      "text/plain": [
       "<Figure size 640x480 with 1 Axes>"
      ]
     },
     "metadata": {},
     "output_type": "display_data"
    }
   ],
   "source": [
    "df['log_loan_amount']=np.log(df['loan_amount']) \n",
    "sns.kdeplot(data=df,x='log_loan_amount') "
   ]
  },
  {
   "cell_type": "markdown",
   "id": "04f6a583-eaa3-4fb4-9fca-112ebbae2917",
   "metadata": {},
   "source": [
    "## Jobs"
   ]
  },
  {
   "cell_type": "code",
   "execution_count": 78,
   "id": "0002280c-7372-459c-b569-7fd2c05eedb5",
   "metadata": {},
   "outputs": [
    {
     "data": {
      "text/plain": [
       "emp_title\n",
       "Columbia University                21\n",
       "American Express                   21\n",
       "Department of Homeland Security    21\n",
       "PricewaterhouseCoopers             20\n",
       "Department of Veterans Affairs     20\n",
       "                                   ..\n",
       "Charles Schwab                     10\n",
       "Yale University                    10\n",
       "URS Corporation                    10\n",
       "Costco                             10\n",
       "Rite Aid                           10\n",
       "Name: count, Length: 119, dtype: int64"
      ]
     },
     "execution_count": 78,
     "metadata": {},
     "output_type": "execute_result"
    }
   ],
   "source": [
    "df['emp_title'].value_counts()[50:200]"
   ]
  },
  {
   "cell_type": "code",
   "execution_count": 79,
   "id": "98928972-a120-47be-be89-3bccaba420b7",
   "metadata": {},
   "outputs": [],
   "source": [
    "\n",
    "categories = {\n",
    "    \"Tech/Telecom\": [r\"tech\", r\"software\", r\"information\", r\"it\", r\"comcast\", r\"verizon\", r\"at[\\\\s&]*t\", r\"accenture\", r\"saic\", r\"northrop\", r\"lockheed\", r\"booz\", r\"sprint\", r\"intel\", r\"microsoft\", r\"apple\", r\"google\", r\"oracle\", r\"cisco\", r\"ibm\", r\"hp\", r\"dell\", r\"digital\", r\"data\"],\n",
    "    \"Finance\": [r\"bank\", r\"finance\", r\"financial\", r\"fidelity\", r\"tiaa\", r\"credit\", r\"invest\", r\"citigroup\", r\"wells\", r\"chase\", r\"hartford\", r\"visa\", r\"mastercard\", r\"capital [oO]ne\", r\"goldman\", r\"morgan\", r\"accountant\", r\"cpa\", r\"auditor\", r\"insurance\"],\n",
    "    \"Military\": [r\"air force\", r\"\\\\barmy\\\\b\", r\"\\\\bnavy\\\\b\", r\"\\\\bmarine\", r\"usaf\", r\"u\\\\.s\\\\.\\\\s*army\", r\"u\\\\.s\\\\.\\\\s*navy\", r\"u\\\\.s\\\\.\\\\s*air\", r\"coast guard\", r\"military\", r\"department of defense\", r\"\\\\bdod\\\\b\"],\n",
    "    \"Education\": [r\"school\", r\"university\", r\"college\", r\"district\", r\"teacher\", r\"professor\", r\"education\", r\"institute\"],\n",
    "    \"Healthcare\": [r\"hospital\", r\"health\", r\"kaiser\", r\"medical\", r\"clinic\", r\"pharma\", r\"nurse\", r\"doctor\", r\"healthcare\", r\"patient\"],\n",
    "    \"Retail/Hospitality\": [r\"walmart\", r\"costco\", r\"target\", r\"home depot\", r\"lowe\", r\"walgreens\", r\"macy\", r\"starbucks\", r\"marriott\", r\"hotel\", r\"restaurant\", r\"amazon\", r\"retail\", r\"grocery\"],\n",
    "    \"Transportation/Logistics\": [r\"airline\", r\"aviation\", r\"faa\", r\"airport\", r\"transport\", r\"logistics\", r\"freight\", r\"ups\", r\"fedex\", r\"truck\", r\"usps\", r\"postal service\"],\n",
    "    \"Government/Civil Service\": [r\"federal\", r\"department of\", r\"\\\\bcity of\\\\b\", r\"\\\\bcounty\\\\b\", r\"government\", r\"homeland\", r\"irs\", r\"public\", r\"state of\", r\"court\", r\"postal\"],\n",
    "    \"Consulting/Professional Services\": [r\"consult\", r\"advisor\", r\"bain\", r\"mckinsey\", r\"deloitte\", r\"pwc\", r\"pricewaterhouse\", r\"ey\", r\"kpmg\", r\"booz allen\"],\n",
    "    \"Self-Employed\": [r\"\\\\bself\\\\b\", r\"self[-\\\\s]?employed\", r\"freelance\", r\"owner\", r\"proprietor\", r\"entrepreneur\"],\n",
    "    \"Manufacturing/Engineering\": [r\"engineering\", r\"engineer\", r\"mfg\", r\"manufacturing\", r\"plant\", r\"production\", r\"automotive\", r\"boeing\"],\n",
    "    \"Energy/Utilities\": [r\"energy\", r\"utility\", r\"power\", r\"electric\", r\"gas\", r\"oil\", r\"solar\"],\n",
    "    \"Legal/Law\": [r\"law\", r\"legal\", r\"attorney\", r\"lawyer\", r\"paralegal\"],\n",
    "}\n",
    "def classify(title):\n",
    "    t = title.lower()\n",
    "    for cat, patterns in categories.items():\n",
    "        for p in patterns:\n",
    "            if re.search(p, t):\n",
    "                return cat\n",
    "    return \"Other\"\n",
    "\n",
    "df[\"emp_category\"] = df[\"emp_title\"].apply(classify)"
   ]
  },
  {
   "cell_type": "code",
   "execution_count": 80,
   "id": "5b8313c6-12f5-4788-a41d-db4e8b6fef82",
   "metadata": {},
   "outputs": [
    {
     "data": {
      "text/plain": [
       "emp_category\n",
       "Other                               34580\n",
       "Tech/Telecom                         2417\n",
       "Finance                               530\n",
       "Retail/Hospitality                    302\n",
       "Transportation/Logistics              217\n",
       "Military                              180\n",
       "Government/Civil Service              136\n",
       "Healthcare                             56\n",
       "Education                              46\n",
       "Manufacturing/Engineering              31\n",
       "Consulting/Professional Services       30\n",
       "Self-Employed                          28\n",
       "Energy/Utilities                       23\n",
       "Name: count, dtype: int64"
      ]
     },
     "execution_count": 80,
     "metadata": {},
     "output_type": "execute_result"
    }
   ],
   "source": [
    "df[\"emp_category\"].value_counts() "
   ]
  },
  {
   "cell_type": "code",
   "execution_count": 81,
   "id": "9e51cfcd-d693-4c82-9df9-711a5f43ce4c",
   "metadata": {},
   "outputs": [],
   "source": [
    "df.to_csv(\"data/FeatureEngineerKaggle/feature_engineer_financial_loan.csv\")"
   ]
  },
  {
   "cell_type": "code",
   "execution_count": null,
   "id": "75c8de34-62de-4a4d-be78-930fba2611bc",
   "metadata": {},
   "outputs": [],
   "source": []
  }
 ],
 "metadata": {
  "kernelspec": {
   "display_name": "Python 3 (ipykernel)",
   "language": "python",
   "name": "python3"
  },
  "language_info": {
   "codemirror_mode": {
    "name": "ipython",
    "version": 3
   },
   "file_extension": ".py",
   "mimetype": "text/x-python",
   "name": "python",
   "nbconvert_exporter": "python",
   "pygments_lexer": "ipython3",
   "version": "3.10.11"
  }
 },
 "nbformat": 4,
 "nbformat_minor": 5
}

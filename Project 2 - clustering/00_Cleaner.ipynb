{
 "cells": [
  {
   "cell_type": "code",
   "execution_count": 1,
   "id": "8cbdc763-ee91-4a3c-84ad-d2a5fd5650d3",
   "metadata": {},
   "outputs": [],
   "source": [
    "import pandas as pd\n",
    "import warnings\n",
    "from datetime import datetime\n",
    "warnings.filterwarnings('ignore')"
   ]
  },
  {
   "cell_type": "code",
   "execution_count": 2,
   "id": "b8dbde88-95d4-46b0-9264-2e3f608b8ed9",
   "metadata": {},
   "outputs": [],
   "source": [
    "df = pd.read_csv('data/UnCleanedKaggle/financial_loan.csv')"
   ]
  },
  {
   "cell_type": "code",
   "execution_count": 3,
   "id": "277a2c71",
   "metadata": {},
   "outputs": [
    {
     "data": {
      "text/plain": [
       "Index(['id', 'address_state', 'application_type', 'emp_length', 'emp_title',\n",
       "       'grade', 'home_ownership', 'issue_date', 'last_credit_pull_date',\n",
       "       'last_payment_date', 'loan_status', 'next_payment_date', 'member_id',\n",
       "       'purpose', 'sub_grade', 'term', 'verification_status', 'annual_income',\n",
       "       'dti', 'installment', 'int_rate', 'loan_amount', 'total_acc',\n",
       "       'total_payment'],\n",
       "      dtype='object')"
      ]
     },
     "execution_count": 3,
     "metadata": {},
     "output_type": "execute_result"
    }
   ],
   "source": [
    "df.columns"
   ]
  },
  {
   "cell_type": "code",
   "execution_count": 4,
   "id": "07ddac73-0aa2-4424-8917-195c3a4fafc8",
   "metadata": {},
   "outputs": [
    {
     "data": {
      "text/plain": [
       "id                          0\n",
       "address_state               0\n",
       "application_type            0\n",
       "emp_length                  0\n",
       "emp_title                1438\n",
       "grade                       0\n",
       "home_ownership              0\n",
       "issue_date                  0\n",
       "last_credit_pull_date       0\n",
       "last_payment_date           0\n",
       "loan_status                 0\n",
       "next_payment_date           0\n",
       "member_id                   0\n",
       "purpose                     0\n",
       "sub_grade                   0\n",
       "term                        0\n",
       "verification_status         0\n",
       "annual_income               0\n",
       "dti                         0\n",
       "installment                 0\n",
       "int_rate                    0\n",
       "loan_amount                 0\n",
       "total_acc                   0\n",
       "total_payment               0\n",
       "dtype: int64"
      ]
     },
     "execution_count": 4,
     "metadata": {},
     "output_type": "execute_result"
    }
   ],
   "source": [
    "df.isna().sum()"
   ]
  },
  {
   "cell_type": "code",
   "execution_count": 5,
   "id": "5d77bead-d23e-4afe-9c4c-4df95a29f8fc",
   "metadata": {},
   "outputs": [],
   "source": [
    "df.emp_title.fillna('No title',inplace=True)\n"
   ]
  },
  {
   "cell_type": "code",
   "execution_count": 6,
   "id": "ec9a9c3b",
   "metadata": {},
   "outputs": [
    {
     "data": {
      "text/plain": [
       "id                       38576\n",
       "address_state               50\n",
       "application_type             1\n",
       "emp_length                  11\n",
       "emp_title                28526\n",
       "grade                        7\n",
       "home_ownership               5\n",
       "issue_date                  65\n",
       "last_credit_pull_date      107\n",
       "last_payment_date          102\n",
       "loan_status                  3\n",
       "next_payment_date          102\n",
       "member_id                38576\n",
       "purpose                     14\n",
       "sub_grade                   35\n",
       "term                         2\n",
       "verification_status          3\n",
       "annual_income             5096\n",
       "dti                       2863\n",
       "installment              15132\n",
       "int_rate                   371\n",
       "loan_amount                880\n",
       "total_acc                   82\n",
       "total_payment            19525\n",
       "dtype: int64"
      ]
     },
     "execution_count": 6,
     "metadata": {},
     "output_type": "execute_result"
    }
   ],
   "source": [
    "df.nunique()"
   ]
  },
  {
   "cell_type": "code",
   "execution_count": 7,
   "id": "41257dcb",
   "metadata": {},
   "outputs": [
    {
     "data": {
      "text/plain": [
       "address_state\n",
       "CA    6894\n",
       "NY    3701\n",
       "FL    2773\n",
       "TX    2664\n",
       "NJ    1822\n",
       "IL    1486\n",
       "PA    1482\n",
       "VA    1375\n",
       "GA    1355\n",
       "MA    1310\n",
       "OH    1188\n",
       "MD    1027\n",
       "AZ     833\n",
       "WA     805\n",
       "CO     770\n",
       "NC     759\n",
       "CT     730\n",
       "MI     685\n",
       "MO     660\n",
       "MN     592\n",
       "NV     482\n",
       "SC     464\n",
       "WI     446\n",
       "OR     436\n",
       "AL     432\n",
       "LA     426\n",
       "KY     320\n",
       "OK     293\n",
       "KS     260\n",
       "UT     252\n",
       "AR     236\n",
       "DC     214\n",
       "RI     196\n",
       "NM     183\n",
       "HI     170\n",
       "WV     167\n",
       "NH     161\n",
       "DE     110\n",
       "WY      79\n",
       "MT      79\n",
       "AK      78\n",
       "SD      63\n",
       "VT      54\n",
       "MS      19\n",
       "TN      17\n",
       "IN       9\n",
       "ID       6\n",
       "NE       5\n",
       "IA       5\n",
       "ME       3\n",
       "Name: count, dtype: int64"
      ]
     },
     "execution_count": 7,
     "metadata": {},
     "output_type": "execute_result"
    }
   ],
   "source": [
    "df.address_state.value_counts()"
   ]
  },
  {
   "cell_type": "code",
   "execution_count": 8,
   "id": "061899f2",
   "metadata": {},
   "outputs": [
    {
     "data": {
      "text/plain": [
       "application_type\n",
       "INDIVIDUAL    38576\n",
       "Name: count, dtype: int64"
      ]
     },
     "execution_count": 8,
     "metadata": {},
     "output_type": "execute_result"
    }
   ],
   "source": [
    "df.application_type.value_counts() # kolumna do wyrzucenia"
   ]
  },
  {
   "cell_type": "code",
   "execution_count": 9,
   "id": "c5c991e3",
   "metadata": {},
   "outputs": [],
   "source": [
    "THRESHOLD=10\n",
    "low_representation = df.emp_title.value_counts()[df.emp_title.value_counts()<THRESHOLD].index\n",
    "df.emp_title = df.emp_title.apply(lambda x: 'Other' if x in low_representation else x)"
   ]
  },
  {
   "cell_type": "code",
   "execution_count": 10,
   "id": "7c7d5ce7",
   "metadata": {},
   "outputs": [
    {
     "data": {
      "text/plain": [
       "emp_title\n",
       "Other              33628\n",
       "No title            1438\n",
       "US Army              135\n",
       "Bank of America      109\n",
       "IBM                   67\n",
       "                   ...  \n",
       "Charles Schwab        10\n",
       "Yale University       10\n",
       "URS Corporation       10\n",
       "Costco                10\n",
       "Rite Aid              10\n",
       "Name: count, Length: 169, dtype: int64"
      ]
     },
     "execution_count": 10,
     "metadata": {},
     "output_type": "execute_result"
    }
   ],
   "source": [
    "df.emp_title.value_counts()"
   ]
  },
  {
   "cell_type": "code",
   "execution_count": 11,
   "id": "9338f892-c87c-4990-a21e-abdf206e9643",
   "metadata": {},
   "outputs": [
    {
     "data": {
      "text/plain": [
       "array(['< 1 year', '9 years', '4 years', '10+ years', '3 years',\n",
       "       '5 years', '1 year', '6 years', '2 years', '7 years', '8 years'],\n",
       "      dtype=object)"
      ]
     },
     "execution_count": 11,
     "metadata": {},
     "output_type": "execute_result"
    }
   ],
   "source": [
    "df['emp_length'].unique()"
   ]
  },
  {
   "cell_type": "code",
   "execution_count": 12,
   "id": "62c2eb00-0316-4f47-af5e-6c4425ba25b5",
   "metadata": {},
   "outputs": [],
   "source": [
    "def parse(text: str) -> int:\n",
    "        text = text.strip().lower()\n",
    "        if text.startswith(\"<\"):\n",
    "            return 0                       \n",
    "        elif \"+\" in text:\n",
    "            return 10\n",
    "        return int(text[0])"
   ]
  },
  {
   "cell_type": "code",
   "execution_count": 13,
   "id": "6821b322-64ff-4965-bc5a-f55fe6dd8dc7",
   "metadata": {},
   "outputs": [
    {
     "data": {
      "text/plain": [
       "array([ 0,  9,  4, 10,  3,  5,  1,  6,  2,  7,  8], dtype=int64)"
      ]
     },
     "execution_count": 13,
     "metadata": {},
     "output_type": "execute_result"
    }
   ],
   "source": [
    "df['emp_years']=df['emp_length'].apply(lambda x: parse(x))\n",
    "df['emp_years'].unique() "
   ]
  },
  {
   "cell_type": "code",
   "execution_count": 14,
   "id": "f1b06af5-58cd-4550-8fc5-e4ecd66948fd",
   "metadata": {},
   "outputs": [
    {
     "data": {
      "text/plain": [
       "array(['C', 'E', 'B', 'A', 'D', 'F', 'G'], dtype=object)"
      ]
     },
     "execution_count": 14,
     "metadata": {},
     "output_type": "execute_result"
    }
   ],
   "source": [
    "df['grade'].unique() "
   ]
  },
  {
   "cell_type": "code",
   "execution_count": 15,
   "id": "356c0b17-58ab-4cd4-941a-2bbe10309cce",
   "metadata": {},
   "outputs": [],
   "source": [
    "def grades(grade: str)->int: \n",
    "    dictionary_grade=({\n",
    "        'A':0, \n",
    "        'B':1, \n",
    "        'C':2, \n",
    "        'D':3,\n",
    "        'E':4, \n",
    "        'F':5, \n",
    "        'G':6\n",
    "    })\n",
    "    if grade not in dictionary_grade.keys(): \n",
    "        raise ValueError(\"something wrong\") \n",
    "    else: \n",
    "        return dictionary_grade[grade]"
   ]
  },
  {
   "cell_type": "code",
   "execution_count": 16,
   "id": "b4e06d3d-1c3d-45e3-96de-95d85409d3fe",
   "metadata": {},
   "outputs": [
    {
     "data": {
      "text/plain": [
       "array([2, 4, 1, 0, 3, 5, 6], dtype=int64)"
      ]
     },
     "execution_count": 16,
     "metadata": {},
     "output_type": "execute_result"
    }
   ],
   "source": [
    "df['grade_numeric']=df['grade'].apply(lambda x: grades(x))\n",
    "df['grade_numeric'].unique() "
   ]
  },
  {
   "cell_type": "code",
   "execution_count": 17,
   "id": "4204185f-b3f1-47b4-9ac5-a72f2cac3cc3",
   "metadata": {},
   "outputs": [
    {
     "data": {
      "text/plain": [
       "array(['C4', 'E1', 'C5', 'B2', 'A1', 'C3', 'C2', 'A4', 'A5', 'B5', 'B4',\n",
       "       'B3', 'B1', 'D1', 'A2', 'A3', 'D4', 'D2', 'C1', 'D3', 'E3', 'F1',\n",
       "       'E2', 'E5', 'D5', 'E4', 'F2', 'G3', 'F3', 'G1', 'F4', 'G4', 'G2',\n",
       "       'F5', 'G5'], dtype=object)"
      ]
     },
     "execution_count": 17,
     "metadata": {},
     "output_type": "execute_result"
    }
   ],
   "source": [
    "df['sub_grade'].unique() "
   ]
  },
  {
   "cell_type": "code",
   "execution_count": 18,
   "id": "2454cc72-8eeb-4ca6-9714-ea4b92a3a130",
   "metadata": {},
   "outputs": [],
   "source": [
    "def sub_grades(sub_grade: str) -> float : \n",
    "    sub_str=sub_grade.strip()\n",
    "    grade,sub=sub_str[0],int(sub_str[1])-1\n",
    "    dictionary_grade=({\n",
    "        'A':0 , \n",
    "        'B':1, \n",
    "        'C':2, \n",
    "        'D':3,\n",
    "        'E':4, \n",
    "        'F':5, \n",
    "        'G':6\n",
    "    })\n",
    "    if grade not in dictionary_grade.keys(): \n",
    "        raise ValueError(\"something wrong\") \n",
    "    else: \n",
    "        return int(dictionary_grade[grade]) + sub/5"
   ]
  },
  {
   "cell_type": "code",
   "execution_count": 19,
   "id": "39c9dd96-242f-49c8-afdc-ae72e564379e",
   "metadata": {},
   "outputs": [
    {
     "data": {
      "text/plain": [
       "array([2.6, 4. , 2.8, 1.2, 0. , 2.4, 2.2, 0.6, 0.8, 1.8, 1.6, 1.4, 1. ,\n",
       "       3. , 0.2, 0.4, 3.6, 3.2, 2. , 3.4, 4.4, 5. , 4.2, 4.8, 3.8, 4.6,\n",
       "       5.2, 6.4, 5.4, 6. , 5.6, 6.6, 6.2, 5.8, 6.8])"
      ]
     },
     "execution_count": 19,
     "metadata": {},
     "output_type": "execute_result"
    }
   ],
   "source": [
    "df['sub_grade_numeric']=df['sub_grade'].apply(lambda x: sub_grades(x))\n",
    "df['sub_grade_numeric'].unique() "
   ]
  },
  {
   "cell_type": "code",
   "execution_count": 20,
   "id": "9bff3513",
   "metadata": {},
   "outputs": [
    {
     "data": {
      "text/plain": [
       "home_ownership\n",
       "RENT        18439\n",
       "MORTGAGE    17198\n",
       "OWN          2838\n",
       "OTHER          98\n",
       "NONE            3\n",
       "Name: count, dtype: int64"
      ]
     },
     "execution_count": 20,
     "metadata": {},
     "output_type": "execute_result"
    }
   ],
   "source": [
    "df.home_ownership.value_counts()"
   ]
  },
  {
   "cell_type": "code",
   "execution_count": 21,
   "id": "90dd7d2a",
   "metadata": {},
   "outputs": [
    {
     "data": {
      "text/plain": [
       "loan_status\n",
       "Fully Paid     32145\n",
       "Charged Off     5333\n",
       "Current         1098\n",
       "Name: count, dtype: int64"
      ]
     },
     "execution_count": 21,
     "metadata": {},
     "output_type": "execute_result"
    }
   ],
   "source": [
    "df.loan_status.value_counts()"
   ]
  },
  {
   "cell_type": "code",
   "execution_count": 22,
   "id": "720077e9",
   "metadata": {},
   "outputs": [],
   "source": [
    "df.loc[df.home_ownership=='NONE','home_ownership']='OTHER'"
   ]
  },
  {
   "cell_type": "code",
   "execution_count": 23,
   "id": "f69a8195",
   "metadata": {},
   "outputs": [
    {
     "data": {
      "text/plain": [
       "purpose\n",
       "Debt consolidation    18214\n",
       "credit card            4998\n",
       "other                  3824\n",
       "home improvement       2876\n",
       "major purchase         2110\n",
       "small business         1776\n",
       "car                    1497\n",
       "wedding                 928\n",
       "medical                 667\n",
       "moving                  559\n",
       "house                   366\n",
       "vacation                352\n",
       "educational             315\n",
       "renewable_energy         94\n",
       "Name: count, dtype: int64"
      ]
     },
     "execution_count": 23,
     "metadata": {},
     "output_type": "execute_result"
    }
   ],
   "source": [
    "df.purpose.value_counts()"
   ]
  },
  {
   "cell_type": "code",
   "execution_count": 24,
   "id": "6906c9d8",
   "metadata": {},
   "outputs": [
    {
     "data": {
      "text/plain": [
       "Index(['id', 'address_state', 'application_type', 'emp_length', 'emp_title',\n",
       "       'grade', 'home_ownership', 'issue_date', 'last_credit_pull_date',\n",
       "       'last_payment_date', 'loan_status', 'next_payment_date', 'member_id',\n",
       "       'purpose', 'sub_grade', 'term', 'verification_status', 'annual_income',\n",
       "       'dti', 'installment', 'int_rate', 'loan_amount', 'total_acc',\n",
       "       'total_payment', 'emp_years', 'grade_numeric', 'sub_grade_numeric'],\n",
       "      dtype='object')"
      ]
     },
     "execution_count": 24,
     "metadata": {},
     "output_type": "execute_result"
    }
   ],
   "source": [
    "df.columns"
   ]
  },
  {
   "cell_type": "code",
   "execution_count": 25,
   "id": "671835f8",
   "metadata": {},
   "outputs": [
    {
     "data": {
      "text/plain": [
       "verification_status\n",
       "Not Verified       16464\n",
       "Verified           12335\n",
       "Source Verified     9777\n",
       "Name: count, dtype: int64"
      ]
     },
     "execution_count": 25,
     "metadata": {},
     "output_type": "execute_result"
    }
   ],
   "source": [
    "df.verification_status.value_counts() # czy to czymś się różni? może i tak..."
   ]
  },
  {
   "cell_type": "code",
   "execution_count": 26,
   "id": "3cf55fca",
   "metadata": {},
   "outputs": [
    {
     "data": {
      "text/plain": [
       "0        0.0100\n",
       "1        0.0535\n",
       "2        0.2088\n",
       "3        0.0540\n",
       "4        0.0231\n",
       "          ...  \n",
       "38571    0.1986\n",
       "38572    0.0458\n",
       "38573    0.1734\n",
       "38574    0.0009\n",
       "38575    0.0600\n",
       "Name: dti, Length: 38576, dtype: float64"
      ]
     },
     "execution_count": 26,
     "metadata": {},
     "output_type": "execute_result"
    }
   ],
   "source": [
    "df.dti # DTI, czyli \"Debt to Income\" (dług do dochodu), to wskaźnik, który określa stosunek zobowiązań finansowych do wysokości dochodów."
   ]
  },
  {
   "cell_type": "code",
   "execution_count": 27,
   "id": "1648d774-7838-448e-9d9f-4facf515aeb8",
   "metadata": {},
   "outputs": [],
   "source": [
    "def timeScraper(time_str: str) -> tuple[int, int, int, int]:\n",
    "    dt = datetime.strptime(time_str, '%d-%m-%Y')  \n",
    "    return dt.year, dt.month, dt.day, dt.weekday()\n"
   ]
  },
  {
   "cell_type": "code",
   "execution_count": 28,
   "id": "45d21cf3-dc7c-4a06-b65a-b587a41173cf",
   "metadata": {
    "scrolled": true
   },
   "outputs": [],
   "source": [
    "df[['issue_year', 'issue_month', 'issue_day', 'issue_weekday']] = df['issue_date'].apply(\n",
    "    timeScraper).apply(pd.Series)\n",
    "\n",
    "df[['last_credit_pull_year', 'last_credit_pull_month', 'last_credit_pull_day', 'last_credit_pull_weekday']] = df['last_credit_pull_date'].apply(\n",
    "    timeScraper).apply(pd.Series)\n",
    "\n",
    "df[['last_payment_year', 'last_payment_month', 'last_payment_day', 'last_payment_weekday']] = df['last_payment_date'].apply(\n",
    "    timeScraper).apply(pd.Series)\n",
    "df[['next_payment_year', 'next_payment_month', 'next_payment_day', 'next_payment_weekday']] = df['next_payment_date'].apply(\n",
    "    timeScraper).apply(pd.Series)"
   ]
  },
  {
   "cell_type": "code",
   "execution_count": 29,
   "id": "fbd4fb2c-8d8c-477c-8dad-00427164a38b",
   "metadata": {},
   "outputs": [
    {
     "data": {
      "text/plain": [
       "array([' 60 months', ' 36 months'], dtype=object)"
      ]
     },
     "execution_count": 29,
     "metadata": {},
     "output_type": "execute_result"
    }
   ],
   "source": [
    "df['term'].unique() "
   ]
  },
  {
   "cell_type": "code",
   "execution_count": 30,
   "id": "480a0614-9184-47bd-9e1b-1d0e9abd58a3",
   "metadata": {},
   "outputs": [
    {
     "data": {
      "text/plain": [
       "array([60, 36], dtype=int64)"
      ]
     },
     "execution_count": 30,
     "metadata": {},
     "output_type": "execute_result"
    }
   ],
   "source": [
    "df['term_months']=df['term'].apply(lambda x : 60 if x==\" 60 months\" else 36) \n",
    "df['term_months'].unique()"
   ]
  },
  {
   "cell_type": "code",
   "execution_count": 31,
   "id": "ba2ad868-aefd-49f9-a508-fc4a1fe8b9ea",
   "metadata": {},
   "outputs": [],
   "source": [
    "df.drop(columns=['id','emp_length','member_id','term', 'application_type', 'grade', 'sub_grade'],axis=1,inplace=True)"
   ]
  },
  {
   "cell_type": "code",
   "execution_count": 32,
   "id": "e954d072",
   "metadata": {},
   "outputs": [
    {
     "data": {
      "text/html": [
       "<div>\n",
       "<style scoped>\n",
       "    .dataframe tbody tr th:only-of-type {\n",
       "        vertical-align: middle;\n",
       "    }\n",
       "\n",
       "    .dataframe tbody tr th {\n",
       "        vertical-align: top;\n",
       "    }\n",
       "\n",
       "    .dataframe thead th {\n",
       "        text-align: right;\n",
       "    }\n",
       "</style>\n",
       "<table border=\"1\" class=\"dataframe\">\n",
       "  <thead>\n",
       "    <tr style=\"text-align: right;\">\n",
       "      <th></th>\n",
       "      <th>address_state</th>\n",
       "      <th>emp_title</th>\n",
       "      <th>home_ownership</th>\n",
       "      <th>issue_date</th>\n",
       "      <th>last_credit_pull_date</th>\n",
       "      <th>last_payment_date</th>\n",
       "      <th>loan_status</th>\n",
       "      <th>next_payment_date</th>\n",
       "      <th>purpose</th>\n",
       "      <th>verification_status</th>\n",
       "      <th>...</th>\n",
       "      <th>last_credit_pull_weekday</th>\n",
       "      <th>last_payment_year</th>\n",
       "      <th>last_payment_month</th>\n",
       "      <th>last_payment_day</th>\n",
       "      <th>last_payment_weekday</th>\n",
       "      <th>next_payment_year</th>\n",
       "      <th>next_payment_month</th>\n",
       "      <th>next_payment_day</th>\n",
       "      <th>next_payment_weekday</th>\n",
       "      <th>term_months</th>\n",
       "    </tr>\n",
       "  </thead>\n",
       "  <tbody>\n",
       "    <tr>\n",
       "      <th>0</th>\n",
       "      <td>GA</td>\n",
       "      <td>Other</td>\n",
       "      <td>RENT</td>\n",
       "      <td>11-02-2021</td>\n",
       "      <td>13-09-2021</td>\n",
       "      <td>13-04-2021</td>\n",
       "      <td>Charged Off</td>\n",
       "      <td>13-05-2021</td>\n",
       "      <td>car</td>\n",
       "      <td>Source Verified</td>\n",
       "      <td>...</td>\n",
       "      <td>0</td>\n",
       "      <td>2021</td>\n",
       "      <td>4</td>\n",
       "      <td>13</td>\n",
       "      <td>1</td>\n",
       "      <td>2021</td>\n",
       "      <td>5</td>\n",
       "      <td>13</td>\n",
       "      <td>3</td>\n",
       "      <td>60</td>\n",
       "    </tr>\n",
       "    <tr>\n",
       "      <th>1</th>\n",
       "      <td>CA</td>\n",
       "      <td>Other</td>\n",
       "      <td>RENT</td>\n",
       "      <td>01-01-2021</td>\n",
       "      <td>14-12-2021</td>\n",
       "      <td>15-01-2021</td>\n",
       "      <td>Fully Paid</td>\n",
       "      <td>15-02-2021</td>\n",
       "      <td>car</td>\n",
       "      <td>Source Verified</td>\n",
       "      <td>...</td>\n",
       "      <td>1</td>\n",
       "      <td>2021</td>\n",
       "      <td>1</td>\n",
       "      <td>15</td>\n",
       "      <td>4</td>\n",
       "      <td>2021</td>\n",
       "      <td>2</td>\n",
       "      <td>15</td>\n",
       "      <td>0</td>\n",
       "      <td>36</td>\n",
       "    </tr>\n",
       "    <tr>\n",
       "      <th>2</th>\n",
       "      <td>CA</td>\n",
       "      <td>Other</td>\n",
       "      <td>RENT</td>\n",
       "      <td>05-01-2021</td>\n",
       "      <td>12-12-2021</td>\n",
       "      <td>09-01-2021</td>\n",
       "      <td>Charged Off</td>\n",
       "      <td>09-02-2021</td>\n",
       "      <td>car</td>\n",
       "      <td>Not Verified</td>\n",
       "      <td>...</td>\n",
       "      <td>6</td>\n",
       "      <td>2021</td>\n",
       "      <td>1</td>\n",
       "      <td>9</td>\n",
       "      <td>5</td>\n",
       "      <td>2021</td>\n",
       "      <td>2</td>\n",
       "      <td>9</td>\n",
       "      <td>1</td>\n",
       "      <td>36</td>\n",
       "    </tr>\n",
       "    <tr>\n",
       "      <th>3</th>\n",
       "      <td>TX</td>\n",
       "      <td>Other</td>\n",
       "      <td>MORTGAGE</td>\n",
       "      <td>25-02-2021</td>\n",
       "      <td>12-12-2021</td>\n",
       "      <td>12-03-2021</td>\n",
       "      <td>Fully Paid</td>\n",
       "      <td>12-04-2021</td>\n",
       "      <td>car</td>\n",
       "      <td>Source Verified</td>\n",
       "      <td>...</td>\n",
       "      <td>6</td>\n",
       "      <td>2021</td>\n",
       "      <td>3</td>\n",
       "      <td>12</td>\n",
       "      <td>4</td>\n",
       "      <td>2021</td>\n",
       "      <td>4</td>\n",
       "      <td>12</td>\n",
       "      <td>0</td>\n",
       "      <td>60</td>\n",
       "    </tr>\n",
       "    <tr>\n",
       "      <th>4</th>\n",
       "      <td>IL</td>\n",
       "      <td>Other</td>\n",
       "      <td>MORTGAGE</td>\n",
       "      <td>01-01-2021</td>\n",
       "      <td>14-12-2021</td>\n",
       "      <td>15-01-2021</td>\n",
       "      <td>Fully Paid</td>\n",
       "      <td>15-02-2021</td>\n",
       "      <td>car</td>\n",
       "      <td>Verified</td>\n",
       "      <td>...</td>\n",
       "      <td>1</td>\n",
       "      <td>2021</td>\n",
       "      <td>1</td>\n",
       "      <td>15</td>\n",
       "      <td>4</td>\n",
       "      <td>2021</td>\n",
       "      <td>2</td>\n",
       "      <td>15</td>\n",
       "      <td>0</td>\n",
       "      <td>36</td>\n",
       "    </tr>\n",
       "  </tbody>\n",
       "</table>\n",
       "<p>5 rows × 37 columns</p>\n",
       "</div>"
      ],
      "text/plain": [
       "  address_state emp_title home_ownership  issue_date last_credit_pull_date  \\\n",
       "0            GA     Other           RENT  11-02-2021            13-09-2021   \n",
       "1            CA     Other           RENT  01-01-2021            14-12-2021   \n",
       "2            CA     Other           RENT  05-01-2021            12-12-2021   \n",
       "3            TX     Other       MORTGAGE  25-02-2021            12-12-2021   \n",
       "4            IL     Other       MORTGAGE  01-01-2021            14-12-2021   \n",
       "\n",
       "  last_payment_date  loan_status next_payment_date purpose  \\\n",
       "0        13-04-2021  Charged Off        13-05-2021     car   \n",
       "1        15-01-2021   Fully Paid        15-02-2021     car   \n",
       "2        09-01-2021  Charged Off        09-02-2021     car   \n",
       "3        12-03-2021   Fully Paid        12-04-2021     car   \n",
       "4        15-01-2021   Fully Paid        15-02-2021     car   \n",
       "\n",
       "  verification_status  ...  last_credit_pull_weekday  last_payment_year  \\\n",
       "0     Source Verified  ...                         0               2021   \n",
       "1     Source Verified  ...                         1               2021   \n",
       "2        Not Verified  ...                         6               2021   \n",
       "3     Source Verified  ...                         6               2021   \n",
       "4            Verified  ...                         1               2021   \n",
       "\n",
       "   last_payment_month  last_payment_day  last_payment_weekday  \\\n",
       "0                   4                13                     1   \n",
       "1                   1                15                     4   \n",
       "2                   1                 9                     5   \n",
       "3                   3                12                     4   \n",
       "4                   1                15                     4   \n",
       "\n",
       "   next_payment_year  next_payment_month  next_payment_day  \\\n",
       "0               2021                   5                13   \n",
       "1               2021                   2                15   \n",
       "2               2021                   2                 9   \n",
       "3               2021                   4                12   \n",
       "4               2021                   2                15   \n",
       "\n",
       "   next_payment_weekday  term_months  \n",
       "0                     3           60  \n",
       "1                     0           36  \n",
       "2                     1           36  \n",
       "3                     0           60  \n",
       "4                     0           36  \n",
       "\n",
       "[5 rows x 37 columns]"
      ]
     },
     "execution_count": 32,
     "metadata": {},
     "output_type": "execute_result"
    }
   ],
   "source": [
    "df.head()"
   ]
  },
  {
   "cell_type": "code",
   "execution_count": 33,
   "id": "2e010a6d-a7d5-4e8b-b3b0-aa923f136821",
   "metadata": {},
   "outputs": [],
   "source": [
    "df.to_csv(\"data/CleanedKaggle/financial_loan_cleaned.csv\",index=False) "
   ]
  }
 ],
 "metadata": {
  "kernelspec": {
   "display_name": "Python 3 (ipykernel)",
   "language": "python",
   "name": "python3"
  },
  "language_info": {
   "codemirror_mode": {
    "name": "ipython",
    "version": 3
   },
   "file_extension": ".py",
   "mimetype": "text/x-python",
   "name": "python",
   "nbconvert_exporter": "python",
   "pygments_lexer": "ipython3",
   "version": "3.10.11"
  }
 },
 "nbformat": 4,
 "nbformat_minor": 5
}
